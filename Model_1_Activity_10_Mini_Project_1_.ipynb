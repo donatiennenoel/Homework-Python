{
  "nbformat": 4,
  "nbformat_minor": 0,
  "metadata": {
    "colab": {
      "provenance": [],
      "include_colab_link": true
    },
    "kernelspec": {
      "name": "python3",
      "display_name": "Python 3"
    },
    "language_info": {
      "name": "python"
    }
  },
  "cells": [
    {
      "cell_type": "markdown",
      "metadata": {
        "id": "view-in-github",
        "colab_type": "text"
      },
      "source": [
        "<a href=\"https://colab.research.google.com/github/donatiennenoel/Homework-Python/blob/master/Model_1_Activity_10_Mini_Project_1_.ipynb\" target=\"_parent\"><img src=\"https://colab.research.google.com/assets/colab-badge.svg\" alt=\"Open In Colab\"/></a>"
      ]
    },
    {
      "cell_type": "code",
      "execution_count": null,
      "metadata": {
        "id": "zC7YxArX8bwf"
      },
      "outputs": [],
      "source": [
        "#Libraries used\n",
        "import numpy as np \n",
        "import pandas as pd\n",
        "#Both libraries are imported using the import statement and are aliased as np and pd, respectively. This is a common convention in Python to \n",
        "#make it easier to reference the libraries in the code. \n",
        "import matplotlib.pyplot as plt\n",
        "#matplotlib.pyplot, which is a Python library used for data visualization. It provides a wide range of tools for creating various types of plots, \n",
        "#charts, and graphs.\n",
        "%matplotlib inline\n",
        "#%matplotlib inline, is a special command used in Jupyter Notebook, which is an interactive coding environment. This command is used to display \n",
        "#the visualizations created by Matplotlib directly in the Notebook.\n",
        "#By using this command, the plots will be displayed inline with the code in the Notebook, rather than in a separate window or file. This makes it \n",
        "#easier to analyze and explore the data."
      ]
    },
    {
      "cell_type": "markdown",
      "source": [
        "numpy is a Python library used for scientific computing and provides support for arrays, matrices, and other mathematical functions. It is often used in machine learning applications for numerical operations. \n",
        "\n",
        "pandas is another Python library used for data manipulation and analysis. It provides support for data structures such as data frames, which allow for easy manipulation of tabular data. It is also widely used in machine learning for data preprocessing and cleaning."
      ],
      "metadata": {
        "id": "siC2JHya0TWl"
      }
    },
    {
      "cell_type": "markdown",
      "source": [
        "Please upload the dataset quiz2.csv"
      ],
      "metadata": {
        "id": "ISvl_KITDtTf"
      }
    },
    {
      "cell_type": "code",
      "source": [
        "#Importing data\n",
        "from google.colab import files\n",
        "uploaded = files.upload()"
      ],
      "metadata": {
        "colab": {
          "base_uri": "https://localhost:8080/",
          "height": 73
        },
        "id": "KsP6UiNs8h3x",
        "outputId": "d43c9409-fe54-4e5c-ee53-cd53c1228d68"
      },
      "execution_count": null,
      "outputs": [
        {
          "output_type": "display_data",
          "data": {
            "text/plain": [
              "<IPython.core.display.HTML object>"
            ],
            "text/html": [
              "\n",
              "     <input type=\"file\" id=\"files-34d1f0d4-30c1-4520-aef1-ba68bcf73d92\" name=\"files[]\" multiple disabled\n",
              "        style=\"border:none\" />\n",
              "     <output id=\"result-34d1f0d4-30c1-4520-aef1-ba68bcf73d92\">\n",
              "      Upload widget is only available when the cell has been executed in the\n",
              "      current browser session. Please rerun this cell to enable.\n",
              "      </output>\n",
              "      <script>// Copyright 2017 Google LLC\n",
              "//\n",
              "// Licensed under the Apache License, Version 2.0 (the \"License\");\n",
              "// you may not use this file except in compliance with the License.\n",
              "// You may obtain a copy of the License at\n",
              "//\n",
              "//      http://www.apache.org/licenses/LICENSE-2.0\n",
              "//\n",
              "// Unless required by applicable law or agreed to in writing, software\n",
              "// distributed under the License is distributed on an \"AS IS\" BASIS,\n",
              "// WITHOUT WARRANTIES OR CONDITIONS OF ANY KIND, either express or implied.\n",
              "// See the License for the specific language governing permissions and\n",
              "// limitations under the License.\n",
              "\n",
              "/**\n",
              " * @fileoverview Helpers for google.colab Python module.\n",
              " */\n",
              "(function(scope) {\n",
              "function span(text, styleAttributes = {}) {\n",
              "  const element = document.createElement('span');\n",
              "  element.textContent = text;\n",
              "  for (const key of Object.keys(styleAttributes)) {\n",
              "    element.style[key] = styleAttributes[key];\n",
              "  }\n",
              "  return element;\n",
              "}\n",
              "\n",
              "// Max number of bytes which will be uploaded at a time.\n",
              "const MAX_PAYLOAD_SIZE = 100 * 1024;\n",
              "\n",
              "function _uploadFiles(inputId, outputId) {\n",
              "  const steps = uploadFilesStep(inputId, outputId);\n",
              "  const outputElement = document.getElementById(outputId);\n",
              "  // Cache steps on the outputElement to make it available for the next call\n",
              "  // to uploadFilesContinue from Python.\n",
              "  outputElement.steps = steps;\n",
              "\n",
              "  return _uploadFilesContinue(outputId);\n",
              "}\n",
              "\n",
              "// This is roughly an async generator (not supported in the browser yet),\n",
              "// where there are multiple asynchronous steps and the Python side is going\n",
              "// to poll for completion of each step.\n",
              "// This uses a Promise to block the python side on completion of each step,\n",
              "// then passes the result of the previous step as the input to the next step.\n",
              "function _uploadFilesContinue(outputId) {\n",
              "  const outputElement = document.getElementById(outputId);\n",
              "  const steps = outputElement.steps;\n",
              "\n",
              "  const next = steps.next(outputElement.lastPromiseValue);\n",
              "  return Promise.resolve(next.value.promise).then((value) => {\n",
              "    // Cache the last promise value to make it available to the next\n",
              "    // step of the generator.\n",
              "    outputElement.lastPromiseValue = value;\n",
              "    return next.value.response;\n",
              "  });\n",
              "}\n",
              "\n",
              "/**\n",
              " * Generator function which is called between each async step of the upload\n",
              " * process.\n",
              " * @param {string} inputId Element ID of the input file picker element.\n",
              " * @param {string} outputId Element ID of the output display.\n",
              " * @return {!Iterable<!Object>} Iterable of next steps.\n",
              " */\n",
              "function* uploadFilesStep(inputId, outputId) {\n",
              "  const inputElement = document.getElementById(inputId);\n",
              "  inputElement.disabled = false;\n",
              "\n",
              "  const outputElement = document.getElementById(outputId);\n",
              "  outputElement.innerHTML = '';\n",
              "\n",
              "  const pickedPromise = new Promise((resolve) => {\n",
              "    inputElement.addEventListener('change', (e) => {\n",
              "      resolve(e.target.files);\n",
              "    });\n",
              "  });\n",
              "\n",
              "  const cancel = document.createElement('button');\n",
              "  inputElement.parentElement.appendChild(cancel);\n",
              "  cancel.textContent = 'Cancel upload';\n",
              "  const cancelPromise = new Promise((resolve) => {\n",
              "    cancel.onclick = () => {\n",
              "      resolve(null);\n",
              "    };\n",
              "  });\n",
              "\n",
              "  // Wait for the user to pick the files.\n",
              "  const files = yield {\n",
              "    promise: Promise.race([pickedPromise, cancelPromise]),\n",
              "    response: {\n",
              "      action: 'starting',\n",
              "    }\n",
              "  };\n",
              "\n",
              "  cancel.remove();\n",
              "\n",
              "  // Disable the input element since further picks are not allowed.\n",
              "  inputElement.disabled = true;\n",
              "\n",
              "  if (!files) {\n",
              "    return {\n",
              "      response: {\n",
              "        action: 'complete',\n",
              "      }\n",
              "    };\n",
              "  }\n",
              "\n",
              "  for (const file of files) {\n",
              "    const li = document.createElement('li');\n",
              "    li.append(span(file.name, {fontWeight: 'bold'}));\n",
              "    li.append(span(\n",
              "        `(${file.type || 'n/a'}) - ${file.size} bytes, ` +\n",
              "        `last modified: ${\n",
              "            file.lastModifiedDate ? file.lastModifiedDate.toLocaleDateString() :\n",
              "                                    'n/a'} - `));\n",
              "    const percent = span('0% done');\n",
              "    li.appendChild(percent);\n",
              "\n",
              "    outputElement.appendChild(li);\n",
              "\n",
              "    const fileDataPromise = new Promise((resolve) => {\n",
              "      const reader = new FileReader();\n",
              "      reader.onload = (e) => {\n",
              "        resolve(e.target.result);\n",
              "      };\n",
              "      reader.readAsArrayBuffer(file);\n",
              "    });\n",
              "    // Wait for the data to be ready.\n",
              "    let fileData = yield {\n",
              "      promise: fileDataPromise,\n",
              "      response: {\n",
              "        action: 'continue',\n",
              "      }\n",
              "    };\n",
              "\n",
              "    // Use a chunked sending to avoid message size limits. See b/62115660.\n",
              "    let position = 0;\n",
              "    do {\n",
              "      const length = Math.min(fileData.byteLength - position, MAX_PAYLOAD_SIZE);\n",
              "      const chunk = new Uint8Array(fileData, position, length);\n",
              "      position += length;\n",
              "\n",
              "      const base64 = btoa(String.fromCharCode.apply(null, chunk));\n",
              "      yield {\n",
              "        response: {\n",
              "          action: 'append',\n",
              "          file: file.name,\n",
              "          data: base64,\n",
              "        },\n",
              "      };\n",
              "\n",
              "      let percentDone = fileData.byteLength === 0 ?\n",
              "          100 :\n",
              "          Math.round((position / fileData.byteLength) * 100);\n",
              "      percent.textContent = `${percentDone}% done`;\n",
              "\n",
              "    } while (position < fileData.byteLength);\n",
              "  }\n",
              "\n",
              "  // All done.\n",
              "  yield {\n",
              "    response: {\n",
              "      action: 'complete',\n",
              "    }\n",
              "  };\n",
              "}\n",
              "\n",
              "scope.google = scope.google || {};\n",
              "scope.google.colab = scope.google.colab || {};\n",
              "scope.google.colab._files = {\n",
              "  _uploadFiles,\n",
              "  _uploadFilesContinue,\n",
              "};\n",
              "})(self);\n",
              "</script> "
            ]
          },
          "metadata": {}
        },
        {
          "output_type": "stream",
          "name": "stdout",
          "text": [
            "Saving Data to upload for Python.csv to Data to upload for Python (8).csv\n"
          ]
        }
      ]
    },
    {
      "cell_type": "markdown",
      "source": [
        "The first line of code imports the files module from the google.colab library. This module provides a set of functions that allow you to upload and download files to and from the Colaboratory environment.\n",
        "\n",
        "The second line of code uses the uploaded variable to call the upload() function from the files module. This function opens a file dialog box that allows you to select a file from your local computer to upload to the Colaboratory environment.\n",
        "\n",
        "Once the file is uploaded, the function returns a dictionary that contains the uploaded file's name and its content. This dictionary is then assigned to the uploaded variable, allowing you to access the uploaded file's content in your Python code.\n",
        "\n",
        "Overall, this code is used to upload a file from your local computer to the Colaboratory environment, making it available for analysis in your Python script."
      ],
      "metadata": {
        "id": "0avpdEwH2tRw"
      }
    },
    {
      "cell_type": "code",
      "source": [
        "df=pd.read_csv(\"Data to upload for Python.csv\")"
      ],
      "metadata": {
        "id": "q7mjmzYz9GGO"
      },
      "execution_count": null,
      "outputs": []
    },
    {
      "cell_type": "markdown",
      "source": [
        "This code reads the contents of a CSV file called \"quiz2.csv\" and stores it as a pandas DataFrame object in a variable called df.\n",
        "\n",
        "The pd.read_csv() function is part of the pandas library and is used to read CSV files into a pandas DataFrame. It accepts a file path as its argument, which is the name and location of the CSV file to be read.\n",
        "\n",
        "In this case, the file path is \"quiz2.csv\", which assumes that the CSV file is in the same directory as the Python script. If the CSV file is located in a different directory, you can provide the full file path or a relative file path to the file's location.\n",
        "\n",
        "Once the CSV file is read, its contents are stored as a pandas DataFrame object in the df variable, which allows you to access and manipulate the data using pandas functions and methods."
      ],
      "metadata": {
        "id": "OgFrxaZP3Q5f"
      }
    },
    {
      "cell_type": "markdown",
      "source": [
        "Display the schema of the dataset quiz2\n",
        "\n"
      ],
      "metadata": {
        "id": "1McHKfyGDzsz"
      }
    },
    {
      "cell_type": "code",
      "source": [
        "#Exploring the different colums in the data\n",
        "\n",
        "df.info()\n",
        "#This code prints a summary of the DataFrame object df by calling the info() method. The info() method provides information about the DataFrame, \n",
        "#such as the number of rows and columns, the data type of each column, and the number of non-null values in each column. This method is useful \n",
        "#for quickly understanding the structure and contents of a DataFrame.\n",
        "\n",
        "#When called, df.info() will print a summary of the DataFrame object to the console. The summary includes the total number of rows and columns in \n",
        "#the DataFrame, the name and data type of each column, and the number of non-null values in each column.\n",
        "\n",
        "#Overall, this code provides an overview of the structure and contents of the DataFrame, which can be helpful for understanding and analyzing the \n",
        "#data."
      ],
      "metadata": {
        "colab": {
          "base_uri": "https://localhost:8080/"
        },
        "id": "ATUjwVq_9IUt",
        "outputId": "ded765ba-20c4-443a-fe5f-515f15e1891f"
      },
      "execution_count": null,
      "outputs": [
        {
          "output_type": "stream",
          "name": "stdout",
          "text": [
            "<class 'pandas.core.frame.DataFrame'>\n",
            "RangeIndex: 29 entries, 0 to 28\n",
            "Data columns (total 7 columns):\n",
            " #   Column      Non-Null Count  Dtype \n",
            "---  ------      --------------  ----- \n",
            " 0   subregion   29 non-null     object\n",
            " 1   region      29 non-null     object\n",
            " 2   pop         29 non-null     int64 \n",
            " 3   income      29 non-null     int64 \n",
            " 4   ipaddr      29 non-null     int64 \n",
            " 5   ufo2010     29 non-null     int64 \n",
            " 6   infections  29 non-null     int64 \n",
            "dtypes: int64(5), object(2)\n",
            "memory usage: 1.7+ KB\n"
          ]
        }
      ]
    },
    {
      "cell_type": "code",
      "source": [
        "#Output : number of rows and colums\n",
        "df.shape\n",
        "#The shape attribute of a pandas DataFrame returns a tuple representing the dimensions of the DataFrame, where the first element is the number \n",
        "#of rows and the second element is the number of columns.\n",
        "\n",
        "#When called, df.shape will return a tuple containing the number of rows and columns in the DataFrame, respectively.\n",
        "#For example, if the DataFrame has 100 rows and 5 columns, df.shape will return (100, 5). Overall, this code is used to retrieve the dimensions of \n",
        "#the DataFrame, which can be useful for understanding the size of the dataset and for performing operations that require knowledge of the number \n",
        "#of rows and columns."
      ],
      "metadata": {
        "colab": {
          "base_uri": "https://localhost:8080/"
        },
        "id": "ZNPIPpBZ-R2e",
        "outputId": "eb5afa23-f230-4dac-bd24-b6af15b9d37e"
      },
      "execution_count": null,
      "outputs": [
        {
          "output_type": "execute_result",
          "data": {
            "text/plain": [
              "(29, 7)"
            ]
          },
          "metadata": {},
          "execution_count": 172
        }
      ]
    },
    {
      "cell_type": "code",
      "source": [
        "df.head() #Return the count, mean, sd, quartile,\n",
        " "
      ],
      "metadata": {
        "colab": {
          "base_uri": "https://localhost:8080/",
          "height": 206
        },
        "id": "shEbFr99-WA0",
        "outputId": "cdd8fd6a-c834-40fd-cc0f-44cd988f7115"
      },
      "execution_count": null,
      "outputs": [
        {
          "output_type": "execute_result",
          "data": {
            "text/plain": [
              "   subregion          region     pop  income   ipaddr  ufo2010  infections\n",
              "0  abbeville  south carolina   25101   34670    30330        2         245\n",
              "1     acadia       louisiana   61912   37970    38203        6         215\n",
              "2   accomack        virginia   33341   41595    41338        2        2076\n",
              "3        ada           idaho  409061   55304  1035427       59        5023\n",
              "4      adair            iowa    7481   47623     3762        0         189"
            ],
            "text/html": [
              "\n",
              "  <div id=\"df-f7bee0c5-325e-4493-a407-cf8f446aa766\">\n",
              "    <div class=\"colab-df-container\">\n",
              "      <div>\n",
              "<style scoped>\n",
              "    .dataframe tbody tr th:only-of-type {\n",
              "        vertical-align: middle;\n",
              "    }\n",
              "\n",
              "    .dataframe tbody tr th {\n",
              "        vertical-align: top;\n",
              "    }\n",
              "\n",
              "    .dataframe thead th {\n",
              "        text-align: right;\n",
              "    }\n",
              "</style>\n",
              "<table border=\"1\" class=\"dataframe\">\n",
              "  <thead>\n",
              "    <tr style=\"text-align: right;\">\n",
              "      <th></th>\n",
              "      <th>subregion</th>\n",
              "      <th>region</th>\n",
              "      <th>pop</th>\n",
              "      <th>income</th>\n",
              "      <th>ipaddr</th>\n",
              "      <th>ufo2010</th>\n",
              "      <th>infections</th>\n",
              "    </tr>\n",
              "  </thead>\n",
              "  <tbody>\n",
              "    <tr>\n",
              "      <th>0</th>\n",
              "      <td>abbeville</td>\n",
              "      <td>south carolina</td>\n",
              "      <td>25101</td>\n",
              "      <td>34670</td>\n",
              "      <td>30330</td>\n",
              "      <td>2</td>\n",
              "      <td>245</td>\n",
              "    </tr>\n",
              "    <tr>\n",
              "      <th>1</th>\n",
              "      <td>acadia</td>\n",
              "      <td>louisiana</td>\n",
              "      <td>61912</td>\n",
              "      <td>37970</td>\n",
              "      <td>38203</td>\n",
              "      <td>6</td>\n",
              "      <td>215</td>\n",
              "    </tr>\n",
              "    <tr>\n",
              "      <th>2</th>\n",
              "      <td>accomack</td>\n",
              "      <td>virginia</td>\n",
              "      <td>33341</td>\n",
              "      <td>41595</td>\n",
              "      <td>41338</td>\n",
              "      <td>2</td>\n",
              "      <td>2076</td>\n",
              "    </tr>\n",
              "    <tr>\n",
              "      <th>3</th>\n",
              "      <td>ada</td>\n",
              "      <td>idaho</td>\n",
              "      <td>409061</td>\n",
              "      <td>55304</td>\n",
              "      <td>1035427</td>\n",
              "      <td>59</td>\n",
              "      <td>5023</td>\n",
              "    </tr>\n",
              "    <tr>\n",
              "      <th>4</th>\n",
              "      <td>adair</td>\n",
              "      <td>iowa</td>\n",
              "      <td>7481</td>\n",
              "      <td>47623</td>\n",
              "      <td>3762</td>\n",
              "      <td>0</td>\n",
              "      <td>189</td>\n",
              "    </tr>\n",
              "  </tbody>\n",
              "</table>\n",
              "</div>\n",
              "      <button class=\"colab-df-convert\" onclick=\"convertToInteractive('df-f7bee0c5-325e-4493-a407-cf8f446aa766')\"\n",
              "              title=\"Convert this dataframe to an interactive table.\"\n",
              "              style=\"display:none;\">\n",
              "        \n",
              "  <svg xmlns=\"http://www.w3.org/2000/svg\" height=\"24px\"viewBox=\"0 0 24 24\"\n",
              "       width=\"24px\">\n",
              "    <path d=\"M0 0h24v24H0V0z\" fill=\"none\"/>\n",
              "    <path d=\"M18.56 5.44l.94 2.06.94-2.06 2.06-.94-2.06-.94-.94-2.06-.94 2.06-2.06.94zm-11 1L8.5 8.5l.94-2.06 2.06-.94-2.06-.94L8.5 2.5l-.94 2.06-2.06.94zm10 10l.94 2.06.94-2.06 2.06-.94-2.06-.94-.94-2.06-.94 2.06-2.06.94z\"/><path d=\"M17.41 7.96l-1.37-1.37c-.4-.4-.92-.59-1.43-.59-.52 0-1.04.2-1.43.59L10.3 9.45l-7.72 7.72c-.78.78-.78 2.05 0 2.83L4 21.41c.39.39.9.59 1.41.59.51 0 1.02-.2 1.41-.59l7.78-7.78 2.81-2.81c.8-.78.8-2.07 0-2.86zM5.41 20L4 18.59l7.72-7.72 1.47 1.35L5.41 20z\"/>\n",
              "  </svg>\n",
              "      </button>\n",
              "      \n",
              "  <style>\n",
              "    .colab-df-container {\n",
              "      display:flex;\n",
              "      flex-wrap:wrap;\n",
              "      gap: 12px;\n",
              "    }\n",
              "\n",
              "    .colab-df-convert {\n",
              "      background-color: #E8F0FE;\n",
              "      border: none;\n",
              "      border-radius: 50%;\n",
              "      cursor: pointer;\n",
              "      display: none;\n",
              "      fill: #1967D2;\n",
              "      height: 32px;\n",
              "      padding: 0 0 0 0;\n",
              "      width: 32px;\n",
              "    }\n",
              "\n",
              "    .colab-df-convert:hover {\n",
              "      background-color: #E2EBFA;\n",
              "      box-shadow: 0px 1px 2px rgba(60, 64, 67, 0.3), 0px 1px 3px 1px rgba(60, 64, 67, 0.15);\n",
              "      fill: #174EA6;\n",
              "    }\n",
              "\n",
              "    [theme=dark] .colab-df-convert {\n",
              "      background-color: #3B4455;\n",
              "      fill: #D2E3FC;\n",
              "    }\n",
              "\n",
              "    [theme=dark] .colab-df-convert:hover {\n",
              "      background-color: #434B5C;\n",
              "      box-shadow: 0px 1px 3px 1px rgba(0, 0, 0, 0.15);\n",
              "      filter: drop-shadow(0px 1px 2px rgba(0, 0, 0, 0.3));\n",
              "      fill: #FFFFFF;\n",
              "    }\n",
              "  </style>\n",
              "\n",
              "      <script>\n",
              "        const buttonEl =\n",
              "          document.querySelector('#df-f7bee0c5-325e-4493-a407-cf8f446aa766 button.colab-df-convert');\n",
              "        buttonEl.style.display =\n",
              "          google.colab.kernel.accessAllowed ? 'block' : 'none';\n",
              "\n",
              "        async function convertToInteractive(key) {\n",
              "          const element = document.querySelector('#df-f7bee0c5-325e-4493-a407-cf8f446aa766');\n",
              "          const dataTable =\n",
              "            await google.colab.kernel.invokeFunction('convertToInteractive',\n",
              "                                                     [key], {});\n",
              "          if (!dataTable) return;\n",
              "\n",
              "          const docLinkHtml = 'Like what you see? Visit the ' +\n",
              "            '<a target=\"_blank\" href=https://colab.research.google.com/notebooks/data_table.ipynb>data table notebook</a>'\n",
              "            + ' to learn more about interactive tables.';\n",
              "          element.innerHTML = '';\n",
              "          dataTable['output_type'] = 'display_data';\n",
              "          await google.colab.output.renderOutput(dataTable, element);\n",
              "          const docLink = document.createElement('div');\n",
              "          docLink.innerHTML = docLinkHtml;\n",
              "          element.appendChild(docLink);\n",
              "        }\n",
              "      </script>\n",
              "    </div>\n",
              "  </div>\n",
              "  "
            ]
          },
          "metadata": {},
          "execution_count": 173
        }
      ]
    },
    {
      "cell_type": "markdown",
      "source": [
        "The code run above returns the first few rows of the DataFrame object df by calling the head() method.\n",
        "\n",
        "The head() method is a pandas DataFrame method that returns the first n rows of a DataFrame, where n is a parameter that defaults to 5 if not specified.\n",
        "\n",
        "When called, df.head() will print the first five rows of the DataFrame object to the console. This is useful for quickly inspecting the data and verifying that it was read into the DataFrame correctly.\n",
        "\n",
        "If you want to view a different number of rows, you can specify the number of rows you want to see as the parameter to the head() method. For example, df.head(10) will return the first 10 rows of the DataFrame.\n",
        "\n",
        "Overall, df.head() is a useful method for quickly previewing the contents of a DataFrame, especially when working with large datasets."
      ],
      "metadata": {
        "id": "EMyOx-vh51nH"
      }
    },
    {
      "cell_type": "code",
      "source": [
        "df.describe() #Generate descriptive statistics that summarize the central tendency, dispersion and shape of the distribution of the dataset, "
      ],
      "metadata": {
        "colab": {
          "base_uri": "https://localhost:8080/",
          "height": 300
        },
        "id": "UJqONKIs-cdt",
        "outputId": "28eb4c52-9d4b-48d8-d41e-4ce84a62d09a"
      },
      "execution_count": null,
      "outputs": [
        {
          "output_type": "execute_result",
          "data": {
            "text/plain": [
              "                pop        income        ipaddr     ufo2010   infections\n",
              "count  2.900000e+01     29.000000  2.900000e+01   29.000000    29.000000\n",
              "mean   1.359397e+05  43858.137931  4.401299e+05   16.655172  1117.068966\n",
              "std    2.986008e+05   9726.414913  1.162968e+06   37.919347  1845.639745\n",
              "min    2.311000e+03  26784.000000  6.370000e+02    0.000000    39.000000\n",
              "25%    1.900500e+04  37970.000000  1.229400e+04    0.000000   123.000000\n",
              "50%    3.212200e+04  41595.000000  3.041800e+04    2.000000   245.000000\n",
              "75%    1.014820e+05  47469.000000  1.021040e+05    9.000000   672.000000\n",
              "max    1.554720e+06  70821.000000  5.394949e+06  169.000000  6781.000000"
            ],
            "text/html": [
              "\n",
              "  <div id=\"df-16a79eea-8f0f-4a56-9b19-4dd3bb7f1aa1\">\n",
              "    <div class=\"colab-df-container\">\n",
              "      <div>\n",
              "<style scoped>\n",
              "    .dataframe tbody tr th:only-of-type {\n",
              "        vertical-align: middle;\n",
              "    }\n",
              "\n",
              "    .dataframe tbody tr th {\n",
              "        vertical-align: top;\n",
              "    }\n",
              "\n",
              "    .dataframe thead th {\n",
              "        text-align: right;\n",
              "    }\n",
              "</style>\n",
              "<table border=\"1\" class=\"dataframe\">\n",
              "  <thead>\n",
              "    <tr style=\"text-align: right;\">\n",
              "      <th></th>\n",
              "      <th>pop</th>\n",
              "      <th>income</th>\n",
              "      <th>ipaddr</th>\n",
              "      <th>ufo2010</th>\n",
              "      <th>infections</th>\n",
              "    </tr>\n",
              "  </thead>\n",
              "  <tbody>\n",
              "    <tr>\n",
              "      <th>count</th>\n",
              "      <td>2.900000e+01</td>\n",
              "      <td>29.000000</td>\n",
              "      <td>2.900000e+01</td>\n",
              "      <td>29.000000</td>\n",
              "      <td>29.000000</td>\n",
              "    </tr>\n",
              "    <tr>\n",
              "      <th>mean</th>\n",
              "      <td>1.359397e+05</td>\n",
              "      <td>43858.137931</td>\n",
              "      <td>4.401299e+05</td>\n",
              "      <td>16.655172</td>\n",
              "      <td>1117.068966</td>\n",
              "    </tr>\n",
              "    <tr>\n",
              "      <th>std</th>\n",
              "      <td>2.986008e+05</td>\n",
              "      <td>9726.414913</td>\n",
              "      <td>1.162968e+06</td>\n",
              "      <td>37.919347</td>\n",
              "      <td>1845.639745</td>\n",
              "    </tr>\n",
              "    <tr>\n",
              "      <th>min</th>\n",
              "      <td>2.311000e+03</td>\n",
              "      <td>26784.000000</td>\n",
              "      <td>6.370000e+02</td>\n",
              "      <td>0.000000</td>\n",
              "      <td>39.000000</td>\n",
              "    </tr>\n",
              "    <tr>\n",
              "      <th>25%</th>\n",
              "      <td>1.900500e+04</td>\n",
              "      <td>37970.000000</td>\n",
              "      <td>1.229400e+04</td>\n",
              "      <td>0.000000</td>\n",
              "      <td>123.000000</td>\n",
              "    </tr>\n",
              "    <tr>\n",
              "      <th>50%</th>\n",
              "      <td>3.212200e+04</td>\n",
              "      <td>41595.000000</td>\n",
              "      <td>3.041800e+04</td>\n",
              "      <td>2.000000</td>\n",
              "      <td>245.000000</td>\n",
              "    </tr>\n",
              "    <tr>\n",
              "      <th>75%</th>\n",
              "      <td>1.014820e+05</td>\n",
              "      <td>47469.000000</td>\n",
              "      <td>1.021040e+05</td>\n",
              "      <td>9.000000</td>\n",
              "      <td>672.000000</td>\n",
              "    </tr>\n",
              "    <tr>\n",
              "      <th>max</th>\n",
              "      <td>1.554720e+06</td>\n",
              "      <td>70821.000000</td>\n",
              "      <td>5.394949e+06</td>\n",
              "      <td>169.000000</td>\n",
              "      <td>6781.000000</td>\n",
              "    </tr>\n",
              "  </tbody>\n",
              "</table>\n",
              "</div>\n",
              "      <button class=\"colab-df-convert\" onclick=\"convertToInteractive('df-16a79eea-8f0f-4a56-9b19-4dd3bb7f1aa1')\"\n",
              "              title=\"Convert this dataframe to an interactive table.\"\n",
              "              style=\"display:none;\">\n",
              "        \n",
              "  <svg xmlns=\"http://www.w3.org/2000/svg\" height=\"24px\"viewBox=\"0 0 24 24\"\n",
              "       width=\"24px\">\n",
              "    <path d=\"M0 0h24v24H0V0z\" fill=\"none\"/>\n",
              "    <path d=\"M18.56 5.44l.94 2.06.94-2.06 2.06-.94-2.06-.94-.94-2.06-.94 2.06-2.06.94zm-11 1L8.5 8.5l.94-2.06 2.06-.94-2.06-.94L8.5 2.5l-.94 2.06-2.06.94zm10 10l.94 2.06.94-2.06 2.06-.94-2.06-.94-.94-2.06-.94 2.06-2.06.94z\"/><path d=\"M17.41 7.96l-1.37-1.37c-.4-.4-.92-.59-1.43-.59-.52 0-1.04.2-1.43.59L10.3 9.45l-7.72 7.72c-.78.78-.78 2.05 0 2.83L4 21.41c.39.39.9.59 1.41.59.51 0 1.02-.2 1.41-.59l7.78-7.78 2.81-2.81c.8-.78.8-2.07 0-2.86zM5.41 20L4 18.59l7.72-7.72 1.47 1.35L5.41 20z\"/>\n",
              "  </svg>\n",
              "      </button>\n",
              "      \n",
              "  <style>\n",
              "    .colab-df-container {\n",
              "      display:flex;\n",
              "      flex-wrap:wrap;\n",
              "      gap: 12px;\n",
              "    }\n",
              "\n",
              "    .colab-df-convert {\n",
              "      background-color: #E8F0FE;\n",
              "      border: none;\n",
              "      border-radius: 50%;\n",
              "      cursor: pointer;\n",
              "      display: none;\n",
              "      fill: #1967D2;\n",
              "      height: 32px;\n",
              "      padding: 0 0 0 0;\n",
              "      width: 32px;\n",
              "    }\n",
              "\n",
              "    .colab-df-convert:hover {\n",
              "      background-color: #E2EBFA;\n",
              "      box-shadow: 0px 1px 2px rgba(60, 64, 67, 0.3), 0px 1px 3px 1px rgba(60, 64, 67, 0.15);\n",
              "      fill: #174EA6;\n",
              "    }\n",
              "\n",
              "    [theme=dark] .colab-df-convert {\n",
              "      background-color: #3B4455;\n",
              "      fill: #D2E3FC;\n",
              "    }\n",
              "\n",
              "    [theme=dark] .colab-df-convert:hover {\n",
              "      background-color: #434B5C;\n",
              "      box-shadow: 0px 1px 3px 1px rgba(0, 0, 0, 0.15);\n",
              "      filter: drop-shadow(0px 1px 2px rgba(0, 0, 0, 0.3));\n",
              "      fill: #FFFFFF;\n",
              "    }\n",
              "  </style>\n",
              "\n",
              "      <script>\n",
              "        const buttonEl =\n",
              "          document.querySelector('#df-16a79eea-8f0f-4a56-9b19-4dd3bb7f1aa1 button.colab-df-convert');\n",
              "        buttonEl.style.display =\n",
              "          google.colab.kernel.accessAllowed ? 'block' : 'none';\n",
              "\n",
              "        async function convertToInteractive(key) {\n",
              "          const element = document.querySelector('#df-16a79eea-8f0f-4a56-9b19-4dd3bb7f1aa1');\n",
              "          const dataTable =\n",
              "            await google.colab.kernel.invokeFunction('convertToInteractive',\n",
              "                                                     [key], {});\n",
              "          if (!dataTable) return;\n",
              "\n",
              "          const docLinkHtml = 'Like what you see? Visit the ' +\n",
              "            '<a target=\"_blank\" href=https://colab.research.google.com/notebooks/data_table.ipynb>data table notebook</a>'\n",
              "            + ' to learn more about interactive tables.';\n",
              "          element.innerHTML = '';\n",
              "          dataTable['output_type'] = 'display_data';\n",
              "          await google.colab.output.renderOutput(dataTable, element);\n",
              "          const docLink = document.createElement('div');\n",
              "          docLink.innerHTML = docLinkHtml;\n",
              "          element.appendChild(docLink);\n",
              "        }\n",
              "      </script>\n",
              "    </div>\n",
              "  </div>\n",
              "  "
            ]
          },
          "metadata": {},
          "execution_count": 174
        }
      ]
    },
    {
      "cell_type": "markdown",
      "source": [
        "The code run above returns a summary statistics of the DataFrame object df by calling the describe() method.\n",
        "\n",
        "The describe() method is a pandas DataFrame method that provides descriptive statistics for all columns in the DataFrame. By default, it calculates statistics such as the count, mean, standard deviation, minimum, and maximum values for each numeric column in the DataFrame.\n",
        "\n",
        "When called, df.describe() will print a summary of the DataFrame object to the console. The summary includes the count, mean, standard deviation, minimum, and maximum values for each numeric column in the DataFrame, as well as the quartile values (25%, 50%, and 75%) and the range of each numeric column.\n",
        "\n",
        "This method is useful for quickly understanding the distribution and range of values in the dataset, as well as identifying potential outliers and issues with missing data.\n",
        "\n",
        "Overall, df.describe() is a helpful method for generating summary statistics of a DataFrame, which can be useful for initial exploration and analysis of the data."
      ],
      "metadata": {
        "id": "tjrGAz4y6JuE"
      }
    },
    {
      "cell_type": "code",
      "source": [
        "#Preparing the Data Unlike the simple LR, this time we are going to use column names for creating an attribute set and label.\n",
        "X=df[['pop','income','ipaddr','ufo2010']]\n",
        "y=df['infections']"
      ],
      "metadata": {
        "id": "4D_7wRo4_t2s"
      },
      "execution_count": null,
      "outputs": []
    },
    {
      "cell_type": "markdown",
      "source": [
        "The code run above separates the input features and output variable from the DataFrame object df and stores them in two separate variables X and y.\n",
        "\n",
        "The input features are the columns of the DataFrame that will be used to make predictions on the output variable, while the output variable is the column that contains the target value to be predicted.\n",
        "\n",
        "In this code, the input features are selected from the DataFrame using the double square bracket notation [['pop','income','ipaddr','ufo2010']], which creates a new DataFrame containing only those columns. This new DataFrame is then assigned to the variable X.\n",
        "\n",
        "The output variable is selected from the DataFrame using the single square bracket notation ['infections'], which creates a pandas Series object containing the values in the 'infections' column. This Series object is assigned to the variable y.\n",
        "\n",
        "Overall, this code separates the input features and output variable from the original DataFrame, which is an important step in many machine learning algorithms that require the data to be structured in a certain way."
      ],
      "metadata": {
        "id": "IVpsy5Vp6ikV"
      }
    },
    {
      "cell_type": "code",
      "source": [
        "#Dividing our data into training and test sets:\n",
        "from sklearn.model_selection import train_test_split\n",
        "X_train, X_test, y_train, y_test = train_test_split(X, y, test_size=0.2, random_state=0)"
      ],
      "metadata": {
        "id": "PKis_NI3_18L"
      },
      "execution_count": null,
      "outputs": []
    },
    {
      "cell_type": "markdown",
      "source": [
        "The code run above splits the input features and output variable into training and testing sets using the train_test_split() function from the scikit-learn library.\n",
        "\n",
        "The train_test_split() function is a commonly used utility function in machine learning that splits a dataset into two subsets: a training set and a testing set. The function takes in the input features (X) and output variable (y) as arguments, as well as a test_size parameter that specifies the proportion of the data to be used for testing (in this case, 20% or test_size=0.2) and a random_state parameter that ensures the same split is produced each time the code is run.\n",
        "\n",
        "The function returns four variables: X_train, X_test, y_train, and y_test. The X_train and y_train variables contain the input features and output variable for the training set, while X_test and y_test contain the input features and output variable for the testing set.\n",
        "\n",
        "Overall, this code is used to split the dataset into training and testing sets, which is an important step in many machine learning algorithms. By splitting the dataset, we can train our model on the training set and then evaluate its performance on the testing set to determine how well it generalizes to new, unseen data."
      ],
      "metadata": {
        "id": "6APNLsda62hv"
      }
    },
    {
      "cell_type": "code",
      "source": [
        "#Training the Algorithm\n",
        "from sklearn.linear_model import LinearRegression\n",
        "reg=LinearRegression()\n",
        "reg.fit(X_train,y_train)"
      ],
      "metadata": {
        "colab": {
          "base_uri": "https://localhost:8080/",
          "height": 75
        },
        "id": "A_Ao-LhRAi5q",
        "outputId": "04825926-bea3-485b-a34b-062d350ea324"
      },
      "execution_count": null,
      "outputs": [
        {
          "output_type": "execute_result",
          "data": {
            "text/plain": [
              "LinearRegression()"
            ],
            "text/html": [
              "<style>#sk-container-id-9 {color: black;background-color: white;}#sk-container-id-9 pre{padding: 0;}#sk-container-id-9 div.sk-toggleable {background-color: white;}#sk-container-id-9 label.sk-toggleable__label {cursor: pointer;display: block;width: 100%;margin-bottom: 0;padding: 0.3em;box-sizing: border-box;text-align: center;}#sk-container-id-9 label.sk-toggleable__label-arrow:before {content: \"▸\";float: left;margin-right: 0.25em;color: #696969;}#sk-container-id-9 label.sk-toggleable__label-arrow:hover:before {color: black;}#sk-container-id-9 div.sk-estimator:hover label.sk-toggleable__label-arrow:before {color: black;}#sk-container-id-9 div.sk-toggleable__content {max-height: 0;max-width: 0;overflow: hidden;text-align: left;background-color: #f0f8ff;}#sk-container-id-9 div.sk-toggleable__content pre {margin: 0.2em;color: black;border-radius: 0.25em;background-color: #f0f8ff;}#sk-container-id-9 input.sk-toggleable__control:checked~div.sk-toggleable__content {max-height: 200px;max-width: 100%;overflow: auto;}#sk-container-id-9 input.sk-toggleable__control:checked~label.sk-toggleable__label-arrow:before {content: \"▾\";}#sk-container-id-9 div.sk-estimator input.sk-toggleable__control:checked~label.sk-toggleable__label {background-color: #d4ebff;}#sk-container-id-9 div.sk-label input.sk-toggleable__control:checked~label.sk-toggleable__label {background-color: #d4ebff;}#sk-container-id-9 input.sk-hidden--visually {border: 0;clip: rect(1px 1px 1px 1px);clip: rect(1px, 1px, 1px, 1px);height: 1px;margin: -1px;overflow: hidden;padding: 0;position: absolute;width: 1px;}#sk-container-id-9 div.sk-estimator {font-family: monospace;background-color: #f0f8ff;border: 1px dotted black;border-radius: 0.25em;box-sizing: border-box;margin-bottom: 0.5em;}#sk-container-id-9 div.sk-estimator:hover {background-color: #d4ebff;}#sk-container-id-9 div.sk-parallel-item::after {content: \"\";width: 100%;border-bottom: 1px solid gray;flex-grow: 1;}#sk-container-id-9 div.sk-label:hover label.sk-toggleable__label {background-color: #d4ebff;}#sk-container-id-9 div.sk-serial::before {content: \"\";position: absolute;border-left: 1px solid gray;box-sizing: border-box;top: 0;bottom: 0;left: 50%;z-index: 0;}#sk-container-id-9 div.sk-serial {display: flex;flex-direction: column;align-items: center;background-color: white;padding-right: 0.2em;padding-left: 0.2em;position: relative;}#sk-container-id-9 div.sk-item {position: relative;z-index: 1;}#sk-container-id-9 div.sk-parallel {display: flex;align-items: stretch;justify-content: center;background-color: white;position: relative;}#sk-container-id-9 div.sk-item::before, #sk-container-id-9 div.sk-parallel-item::before {content: \"\";position: absolute;border-left: 1px solid gray;box-sizing: border-box;top: 0;bottom: 0;left: 50%;z-index: -1;}#sk-container-id-9 div.sk-parallel-item {display: flex;flex-direction: column;z-index: 1;position: relative;background-color: white;}#sk-container-id-9 div.sk-parallel-item:first-child::after {align-self: flex-end;width: 50%;}#sk-container-id-9 div.sk-parallel-item:last-child::after {align-self: flex-start;width: 50%;}#sk-container-id-9 div.sk-parallel-item:only-child::after {width: 0;}#sk-container-id-9 div.sk-dashed-wrapped {border: 1px dashed gray;margin: 0 0.4em 0.5em 0.4em;box-sizing: border-box;padding-bottom: 0.4em;background-color: white;}#sk-container-id-9 div.sk-label label {font-family: monospace;font-weight: bold;display: inline-block;line-height: 1.2em;}#sk-container-id-9 div.sk-label-container {text-align: center;}#sk-container-id-9 div.sk-container {/* jupyter's `normalize.less` sets `[hidden] { display: none; }` but bootstrap.min.css set `[hidden] { display: none !important; }` so we also need the `!important` here to be able to override the default hidden behavior on the sphinx rendered scikit-learn.org. See: https://github.com/scikit-learn/scikit-learn/issues/21755 */display: inline-block !important;position: relative;}#sk-container-id-9 div.sk-text-repr-fallback {display: none;}</style><div id=\"sk-container-id-9\" class=\"sk-top-container\"><div class=\"sk-text-repr-fallback\"><pre>LinearRegression()</pre><b>In a Jupyter environment, please rerun this cell to show the HTML representation or trust the notebook. <br />On GitHub, the HTML representation is unable to render, please try loading this page with nbviewer.org.</b></div><div class=\"sk-container\" hidden><div class=\"sk-item\"><div class=\"sk-estimator sk-toggleable\"><input class=\"sk-toggleable__control sk-hidden--visually\" id=\"sk-estimator-id-9\" type=\"checkbox\" checked><label for=\"sk-estimator-id-9\" class=\"sk-toggleable__label sk-toggleable__label-arrow\">LinearRegression</label><div class=\"sk-toggleable__content\"><pre>LinearRegression()</pre></div></div></div></div></div>"
            ]
          },
          "metadata": {},
          "execution_count": 177
        }
      ]
    },
    {
      "cell_type": "markdown",
      "source": [
        "The code run above fits a linear regression model to the training data using the LinearRegression() class from the scikit-learn library.\n",
        "\n",
        "The LinearRegression() class is a linear regression model implementation in scikit-learn that can be used for both simple and multiple linear regression. It fits a linear model to the input features (X_train) and output variable (y_train) using the ordinary least squares method, with the goal of minimizing the sum of squared errors between the predicted and actual output values.\n",
        "\n",
        "Once the LinearRegression() object is created and initialized to reg, the fit() method is called on this object with the training data (X_train and y_train) as arguments. This method fits the linear regression model to the training data by estimating the coefficients of the linear equation that relates the input features to the output variable.\n",
        "\n",
        "After the fit() method is called, the reg object contains the learned coefficients of the linear regression model.\n",
        "\n",
        "Overall, this code trains a linear regression model on the training data, which can then be used to make predictions on new, unseen data."
      ],
      "metadata": {
        "id": "qlmdakRj7Rz1"
      }
    },
    {
      "cell_type": "code",
      "source": [
        "#In case of multivariable linear regression, the regression model has to find the most optimal coefficients for all the attributes.\n",
        "coeff_df = pd.DataFrame(reg.coef_, X.columns, columns=['Coefficient'])\n",
        "coeff_df"
      ],
      "metadata": {
        "colab": {
          "base_uri": "https://localhost:8080/",
          "height": 175
        },
        "id": "LuV-0L5tAsyt",
        "outputId": "eb0b95ff-e549-42d1-9fc0-c5a31cab1b38"
      },
      "execution_count": null,
      "outputs": [
        {
          "output_type": "execute_result",
          "data": {
            "text/plain": [
              "         Coefficient\n",
              "pop         0.002363\n",
              "income      0.048289\n",
              "ipaddr     -0.002468\n",
              "ufo2010    78.018269"
            ],
            "text/html": [
              "\n",
              "  <div id=\"df-66568d2b-07a0-4a42-bb34-1f98668dc958\">\n",
              "    <div class=\"colab-df-container\">\n",
              "      <div>\n",
              "<style scoped>\n",
              "    .dataframe tbody tr th:only-of-type {\n",
              "        vertical-align: middle;\n",
              "    }\n",
              "\n",
              "    .dataframe tbody tr th {\n",
              "        vertical-align: top;\n",
              "    }\n",
              "\n",
              "    .dataframe thead th {\n",
              "        text-align: right;\n",
              "    }\n",
              "</style>\n",
              "<table border=\"1\" class=\"dataframe\">\n",
              "  <thead>\n",
              "    <tr style=\"text-align: right;\">\n",
              "      <th></th>\n",
              "      <th>Coefficient</th>\n",
              "    </tr>\n",
              "  </thead>\n",
              "  <tbody>\n",
              "    <tr>\n",
              "      <th>pop</th>\n",
              "      <td>0.002363</td>\n",
              "    </tr>\n",
              "    <tr>\n",
              "      <th>income</th>\n",
              "      <td>0.048289</td>\n",
              "    </tr>\n",
              "    <tr>\n",
              "      <th>ipaddr</th>\n",
              "      <td>-0.002468</td>\n",
              "    </tr>\n",
              "    <tr>\n",
              "      <th>ufo2010</th>\n",
              "      <td>78.018269</td>\n",
              "    </tr>\n",
              "  </tbody>\n",
              "</table>\n",
              "</div>\n",
              "      <button class=\"colab-df-convert\" onclick=\"convertToInteractive('df-66568d2b-07a0-4a42-bb34-1f98668dc958')\"\n",
              "              title=\"Convert this dataframe to an interactive table.\"\n",
              "              style=\"display:none;\">\n",
              "        \n",
              "  <svg xmlns=\"http://www.w3.org/2000/svg\" height=\"24px\"viewBox=\"0 0 24 24\"\n",
              "       width=\"24px\">\n",
              "    <path d=\"M0 0h24v24H0V0z\" fill=\"none\"/>\n",
              "    <path d=\"M18.56 5.44l.94 2.06.94-2.06 2.06-.94-2.06-.94-.94-2.06-.94 2.06-2.06.94zm-11 1L8.5 8.5l.94-2.06 2.06-.94-2.06-.94L8.5 2.5l-.94 2.06-2.06.94zm10 10l.94 2.06.94-2.06 2.06-.94-2.06-.94-.94-2.06-.94 2.06-2.06.94z\"/><path d=\"M17.41 7.96l-1.37-1.37c-.4-.4-.92-.59-1.43-.59-.52 0-1.04.2-1.43.59L10.3 9.45l-7.72 7.72c-.78.78-.78 2.05 0 2.83L4 21.41c.39.39.9.59 1.41.59.51 0 1.02-.2 1.41-.59l7.78-7.78 2.81-2.81c.8-.78.8-2.07 0-2.86zM5.41 20L4 18.59l7.72-7.72 1.47 1.35L5.41 20z\"/>\n",
              "  </svg>\n",
              "      </button>\n",
              "      \n",
              "  <style>\n",
              "    .colab-df-container {\n",
              "      display:flex;\n",
              "      flex-wrap:wrap;\n",
              "      gap: 12px;\n",
              "    }\n",
              "\n",
              "    .colab-df-convert {\n",
              "      background-color: #E8F0FE;\n",
              "      border: none;\n",
              "      border-radius: 50%;\n",
              "      cursor: pointer;\n",
              "      display: none;\n",
              "      fill: #1967D2;\n",
              "      height: 32px;\n",
              "      padding: 0 0 0 0;\n",
              "      width: 32px;\n",
              "    }\n",
              "\n",
              "    .colab-df-convert:hover {\n",
              "      background-color: #E2EBFA;\n",
              "      box-shadow: 0px 1px 2px rgba(60, 64, 67, 0.3), 0px 1px 3px 1px rgba(60, 64, 67, 0.15);\n",
              "      fill: #174EA6;\n",
              "    }\n",
              "\n",
              "    [theme=dark] .colab-df-convert {\n",
              "      background-color: #3B4455;\n",
              "      fill: #D2E3FC;\n",
              "    }\n",
              "\n",
              "    [theme=dark] .colab-df-convert:hover {\n",
              "      background-color: #434B5C;\n",
              "      box-shadow: 0px 1px 3px 1px rgba(0, 0, 0, 0.15);\n",
              "      filter: drop-shadow(0px 1px 2px rgba(0, 0, 0, 0.3));\n",
              "      fill: #FFFFFF;\n",
              "    }\n",
              "  </style>\n",
              "\n",
              "      <script>\n",
              "        const buttonEl =\n",
              "          document.querySelector('#df-66568d2b-07a0-4a42-bb34-1f98668dc958 button.colab-df-convert');\n",
              "        buttonEl.style.display =\n",
              "          google.colab.kernel.accessAllowed ? 'block' : 'none';\n",
              "\n",
              "        async function convertToInteractive(key) {\n",
              "          const element = document.querySelector('#df-66568d2b-07a0-4a42-bb34-1f98668dc958');\n",
              "          const dataTable =\n",
              "            await google.colab.kernel.invokeFunction('convertToInteractive',\n",
              "                                                     [key], {});\n",
              "          if (!dataTable) return;\n",
              "\n",
              "          const docLinkHtml = 'Like what you see? Visit the ' +\n",
              "            '<a target=\"_blank\" href=https://colab.research.google.com/notebooks/data_table.ipynb>data table notebook</a>'\n",
              "            + ' to learn more about interactive tables.';\n",
              "          element.innerHTML = '';\n",
              "          dataTable['output_type'] = 'display_data';\n",
              "          await google.colab.output.renderOutput(dataTable, element);\n",
              "          const docLink = document.createElement('div');\n",
              "          docLink.innerHTML = docLinkHtml;\n",
              "          element.appendChild(docLink);\n",
              "        }\n",
              "      </script>\n",
              "    </div>\n",
              "  </div>\n",
              "  "
            ]
          },
          "metadata": {},
          "execution_count": 178
        }
      ]
    },
    {
      "cell_type": "markdown",
      "source": [
        "The code run above creates a new pandas DataFrame coeff_df that contains the coefficients of the linear regression model trained in the previous code block.\n",
        "\n",
        "The reg.coef_ attribute returns the learned coefficients of the linear regression model, which represent the estimated effect of each input feature on the output variable. These coefficients are organized in an array with the same order as the input features in X_train.\n",
        "\n",
        "To create the DataFrame, the pd.DataFrame() constructor is used with three arguments: the reg.coef_ array, the column names from the X DataFrame (X.columns), and the column name for the coefficients ('Coefficient').\n",
        "\n",
        "The resulting DataFrame has one row for each input feature and one column for the coefficient value. The row index corresponds to the name of the input feature, while the column header is set to 'Coefficient'.\n",
        "\n",
        "Overall, this code creates a DataFrame that displays the learned coefficients of the linear regression model, which can provide insights into which input features are most important in predicting the output variable.\n",
        "\n",
        "\n",
        "\n",
        "\n",
        "\n"
      ],
      "metadata": {
        "id": "jdUMo5cx7hJK"
      }
    },
    {
      "cell_type": "code",
      "source": [
        "#The model is builed to predict the number of infections given the population, the income, the ipassr and the ufo2010. \n",
        "#for y= number of infections\n",
        "#y=0.002363 pop + 0.048289 income -0.002468 ipaddr + 78.018269 ufo2010"
      ],
      "metadata": {
        "id": "-U9B4xG7A46v"
      },
      "execution_count": null,
      "outputs": []
    },
    {
      "cell_type": "code",
      "source": [
        "#Making Predictions\n",
        "y_pred=reg.predict(X_test)"
      ],
      "metadata": {
        "id": "_vL3s28wBPYz"
      },
      "execution_count": null,
      "outputs": []
    },
    {
      "cell_type": "markdown",
      "source": [
        "The code run above generates predictions for the output variable (y_pred) using the linear regression model trained in the previous code blocks.\n",
        "\n",
        "The predict() method is called on the reg object with the testing data (X_test) as the argument. This method applies the learned coefficients of the linear regression model to the input features in X_test to generate predictions for the output variable.\n",
        "\n",
        "The resulting y_pred variable is a numpy array that contains the predicted output values for the testing set.\n",
        "\n",
        "Overall, this code applies the trained linear regression model to the testing set to generate predictions for the output variable, which can be used to evaluate the performance of the model."
      ],
      "metadata": {
        "id": "LFN4zn6b8C3P"
      }
    },
    {
      "cell_type": "code",
      "source": [
        "#comparing the actual output values for X_test with the predicted values:\n",
        "df=pd.DataFrame({'Actual':y_test, 'Predicted':y_pred})\n",
        "df\n"
      ],
      "metadata": {
        "colab": {
          "base_uri": "https://localhost:8080/",
          "height": 238
        },
        "id": "UP5KYw_3BT6y",
        "outputId": "9407ca92-0a8c-46d6-8e15-81f9bd140e08"
      },
      "execution_count": null,
      "outputs": [
        {
          "output_type": "execute_result",
          "data": {
            "text/plain": [
              "    Actual    Predicted\n",
              "2     2076   583.337893\n",
              "20    2389  1233.840278\n",
              "23     290  2275.589391\n",
              "13      67  -220.576136\n",
              "11     126   695.896358\n",
              "25    5689  5405.955416"
            ],
            "text/html": [
              "\n",
              "  <div id=\"df-24998df8-2ebd-4c39-a6dc-5f2ff7dfb4fd\">\n",
              "    <div class=\"colab-df-container\">\n",
              "      <div>\n",
              "<style scoped>\n",
              "    .dataframe tbody tr th:only-of-type {\n",
              "        vertical-align: middle;\n",
              "    }\n",
              "\n",
              "    .dataframe tbody tr th {\n",
              "        vertical-align: top;\n",
              "    }\n",
              "\n",
              "    .dataframe thead th {\n",
              "        text-align: right;\n",
              "    }\n",
              "</style>\n",
              "<table border=\"1\" class=\"dataframe\">\n",
              "  <thead>\n",
              "    <tr style=\"text-align: right;\">\n",
              "      <th></th>\n",
              "      <th>Actual</th>\n",
              "      <th>Predicted</th>\n",
              "    </tr>\n",
              "  </thead>\n",
              "  <tbody>\n",
              "    <tr>\n",
              "      <th>2</th>\n",
              "      <td>2076</td>\n",
              "      <td>583.337893</td>\n",
              "    </tr>\n",
              "    <tr>\n",
              "      <th>20</th>\n",
              "      <td>2389</td>\n",
              "      <td>1233.840278</td>\n",
              "    </tr>\n",
              "    <tr>\n",
              "      <th>23</th>\n",
              "      <td>290</td>\n",
              "      <td>2275.589391</td>\n",
              "    </tr>\n",
              "    <tr>\n",
              "      <th>13</th>\n",
              "      <td>67</td>\n",
              "      <td>-220.576136</td>\n",
              "    </tr>\n",
              "    <tr>\n",
              "      <th>11</th>\n",
              "      <td>126</td>\n",
              "      <td>695.896358</td>\n",
              "    </tr>\n",
              "    <tr>\n",
              "      <th>25</th>\n",
              "      <td>5689</td>\n",
              "      <td>5405.955416</td>\n",
              "    </tr>\n",
              "  </tbody>\n",
              "</table>\n",
              "</div>\n",
              "      <button class=\"colab-df-convert\" onclick=\"convertToInteractive('df-24998df8-2ebd-4c39-a6dc-5f2ff7dfb4fd')\"\n",
              "              title=\"Convert this dataframe to an interactive table.\"\n",
              "              style=\"display:none;\">\n",
              "        \n",
              "  <svg xmlns=\"http://www.w3.org/2000/svg\" height=\"24px\"viewBox=\"0 0 24 24\"\n",
              "       width=\"24px\">\n",
              "    <path d=\"M0 0h24v24H0V0z\" fill=\"none\"/>\n",
              "    <path d=\"M18.56 5.44l.94 2.06.94-2.06 2.06-.94-2.06-.94-.94-2.06-.94 2.06-2.06.94zm-11 1L8.5 8.5l.94-2.06 2.06-.94-2.06-.94L8.5 2.5l-.94 2.06-2.06.94zm10 10l.94 2.06.94-2.06 2.06-.94-2.06-.94-.94-2.06-.94 2.06-2.06.94z\"/><path d=\"M17.41 7.96l-1.37-1.37c-.4-.4-.92-.59-1.43-.59-.52 0-1.04.2-1.43.59L10.3 9.45l-7.72 7.72c-.78.78-.78 2.05 0 2.83L4 21.41c.39.39.9.59 1.41.59.51 0 1.02-.2 1.41-.59l7.78-7.78 2.81-2.81c.8-.78.8-2.07 0-2.86zM5.41 20L4 18.59l7.72-7.72 1.47 1.35L5.41 20z\"/>\n",
              "  </svg>\n",
              "      </button>\n",
              "      \n",
              "  <style>\n",
              "    .colab-df-container {\n",
              "      display:flex;\n",
              "      flex-wrap:wrap;\n",
              "      gap: 12px;\n",
              "    }\n",
              "\n",
              "    .colab-df-convert {\n",
              "      background-color: #E8F0FE;\n",
              "      border: none;\n",
              "      border-radius: 50%;\n",
              "      cursor: pointer;\n",
              "      display: none;\n",
              "      fill: #1967D2;\n",
              "      height: 32px;\n",
              "      padding: 0 0 0 0;\n",
              "      width: 32px;\n",
              "    }\n",
              "\n",
              "    .colab-df-convert:hover {\n",
              "      background-color: #E2EBFA;\n",
              "      box-shadow: 0px 1px 2px rgba(60, 64, 67, 0.3), 0px 1px 3px 1px rgba(60, 64, 67, 0.15);\n",
              "      fill: #174EA6;\n",
              "    }\n",
              "\n",
              "    [theme=dark] .colab-df-convert {\n",
              "      background-color: #3B4455;\n",
              "      fill: #D2E3FC;\n",
              "    }\n",
              "\n",
              "    [theme=dark] .colab-df-convert:hover {\n",
              "      background-color: #434B5C;\n",
              "      box-shadow: 0px 1px 3px 1px rgba(0, 0, 0, 0.15);\n",
              "      filter: drop-shadow(0px 1px 2px rgba(0, 0, 0, 0.3));\n",
              "      fill: #FFFFFF;\n",
              "    }\n",
              "  </style>\n",
              "\n",
              "      <script>\n",
              "        const buttonEl =\n",
              "          document.querySelector('#df-24998df8-2ebd-4c39-a6dc-5f2ff7dfb4fd button.colab-df-convert');\n",
              "        buttonEl.style.display =\n",
              "          google.colab.kernel.accessAllowed ? 'block' : 'none';\n",
              "\n",
              "        async function convertToInteractive(key) {\n",
              "          const element = document.querySelector('#df-24998df8-2ebd-4c39-a6dc-5f2ff7dfb4fd');\n",
              "          const dataTable =\n",
              "            await google.colab.kernel.invokeFunction('convertToInteractive',\n",
              "                                                     [key], {});\n",
              "          if (!dataTable) return;\n",
              "\n",
              "          const docLinkHtml = 'Like what you see? Visit the ' +\n",
              "            '<a target=\"_blank\" href=https://colab.research.google.com/notebooks/data_table.ipynb>data table notebook</a>'\n",
              "            + ' to learn more about interactive tables.';\n",
              "          element.innerHTML = '';\n",
              "          dataTable['output_type'] = 'display_data';\n",
              "          await google.colab.output.renderOutput(dataTable, element);\n",
              "          const docLink = document.createElement('div');\n",
              "          docLink.innerHTML = docLinkHtml;\n",
              "          element.appendChild(docLink);\n",
              "        }\n",
              "      </script>\n",
              "    </div>\n",
              "  </div>\n",
              "  "
            ]
          },
          "metadata": {},
          "execution_count": 181
        }
      ]
    },
    {
      "cell_type": "markdown",
      "source": [
        "The code run above creates a new pandas DataFrame df that displays the actual and predicted values of the output variable for the testing set.\n",
        "\n",
        "The DataFrame is created using a dictionary that maps two keys ('Actual' and 'Predicted') to the actual and predicted values of the output variable, respectively. The actual values are taken from the y_test variable, while the predicted values are taken from y_pred, which was generated in the previous code block.\n",
        "\n",
        "Once the dictionary is created, it is passed as an argument to the pd.DataFrame() constructor to create a new DataFrame. The resulting DataFrame has two columns ('Actual' and 'Predicted') and as many rows as there are testing instances.\n",
        "\n",
        "Overall, this code creates a DataFrame that displays the actual and predicted values of the output variable for the testing set, which can be used to evaluate the performance of the linear regression model.\n",
        "\n",
        "\n",
        "\n",
        "\n",
        "\n"
      ],
      "metadata": {
        "id": "D9XMMvSW8dXQ"
      }
    },
    {
      "cell_type": "code",
      "source": [
        "#Evaluating the Algorithm \n",
        "# Error metrics\n",
        "from sklearn import metrics\n",
        "print('Mean Absolute Error:', metrics.mean_absolute_error(y_test, y_pred))\n",
        "print('Mean Squared Error:', metrics.mean_squared_error(y_test, y_pred))\n",
        "print('Root Mean Squared Error:', np.sqrt(metrics.mean_squared_error(y_test, y_pred)))"
      ],
      "metadata": {
        "colab": {
          "base_uri": "https://localhost:8080/"
        },
        "id": "c7gjL2l0BhOz",
        "outputId": "db8d0b07-cb44-482b-c711-e220af1fbf27"
      },
      "execution_count": null,
      "outputs": [
        {
          "output_type": "stream",
          "name": "stdout",
          "text": [
            "Mean Absolute Error: 863.9039766644454\n",
            "Mean Squared Error: 939796.7444615589\n",
            "Root Mean Squared Error: 969.4311447759242\n"
          ]
        }
      ]
    },
    {
      "cell_type": "markdown",
      "source": [
        "The code run above computes and prints three metrics to evaluate the performance of the linear regression model:\n",
        "\n",
        "Mean Absolute Error (MAE): This metric measures the average absolute difference between the predicted values and the true values of the output variable. A lower MAE indicates better performance.\n",
        "\n",
        "Mean Squared Error (MSE): This metric measures the average squared difference between the predicted values and the true values of the output variable. A lower MSE indicates better performance, but the units are different from the original output variable and therefore less intuitive.\n",
        "\n",
        "Root Mean Squared Error (RMSE): This metric is the square root of the MSE and is expressed in the same units as the original output variable. It is a commonly used metric to evaluate regression models. A lower RMSE indicates better performance.\n",
        "\n",
        "The metrics module from the sklearn library is used to compute these metrics. The mean_absolute_error() function computes the MAE, the mean_squared_error() function computes the MSE, and the sqrt() function from the numpy library computes the RMSE. The true values of the output variable for the testing set are taken from y_test, while the predicted values are taken from y_pred, which was generated in the previous code block.\n",
        "\n",
        "Overall, this code computes and prints three metrics to evaluate the performance of the linear regression model, which can be used to compare the model to other models or to tune its hyperparameters.\n",
        "\n",
        "\n",
        "\n",
        "\n",
        "\n"
      ],
      "metadata": {
        "id": "-fLLzbVI8tbo"
      }
    },
    {
      "cell_type": "markdown",
      "source": [
        "Let us now redo this exercize but using a different sample size. I will use 0.1 and you may use a value different from 0.2 and 0.1. "
      ],
      "metadata": {
        "id": "5dzQBqnK98JU"
      }
    },
    {
      "cell_type": "code",
      "source": [
        "from sklearn.model_selection import train_test_split\n",
        "X_train, X_test, y_train, y_test = train_test_split(X, y, test_size=0.3, random_state=42)\n",
        "reg = LinearRegression()\n",
        "reg.fit(X_train, y_train)\n",
        "y_pred = reg.predict(X_test)\n",
        "print('Mean Absolute Error:', metrics.mean_absolute_error(y_test, y_pred))\n",
        "print('Mean Squared Error:', metrics.mean_squared_error(y_test, y_pred))\n",
        "print('Root Mean Squared Error:', np.sqrt(metrics.mean_squared_error(y_test, y_pred)))\n"
      ],
      "metadata": {
        "colab": {
          "base_uri": "https://localhost:8080/"
        },
        "id": "apKHZX168mkD",
        "outputId": "e9210937-0450-4743-eec0-a9345972867a"
      },
      "execution_count": null,
      "outputs": [
        {
          "output_type": "stream",
          "name": "stdout",
          "text": [
            "Mean Absolute Error: 1114.4748328211513\n",
            "Mean Squared Error: 2709873.4569218606\n",
            "Root Mean Squared Error: 1646.1693281439368\n"
          ]
        }
      ]
    },
    {
      "cell_type": "code",
      "source": [
        "#What are your thoughts? "
      ],
      "metadata": {
        "id": "4-HJkjTa91pT"
      },
      "execution_count": null,
      "outputs": []
    },
    {
      "cell_type": "code",
      "source": [],
      "metadata": {
        "id": "_29MW19n-NVN"
      },
      "execution_count": null,
      "outputs": []
    }
  ]
}